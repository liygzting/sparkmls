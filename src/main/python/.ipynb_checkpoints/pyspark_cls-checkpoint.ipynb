{
 "cells": [
  {
   "cell_type": "code",
   "execution_count": 11,
   "id": "0b94a2a5-509f-49e0-9d6a-4022b6b42fb0",
   "metadata": {
    "tags": []
   },
   "outputs": [],
   "source": [
    "import os\n",
    "import random\n",
    "import sklearn\n",
    "import seaborn as sns\n",
    "import matplotlib.pyplot as plt\n",
    "\n",
    "from pyspark.sql import SQLContext\n",
    "from pyspark.sql import SparkSession\n",
    "from pyspark.ml import Pipeline\n",
    "\n",
    "from pyspark.sql.functions import mean, col, split, when, lit, isnan, count, regexp_extract\n",
    "from pyspark.ml.feature import StringIndexer, VectorAssembler, QuantileDiscretizer\n",
    "from pyspark.ml.evaluation import MulticlassClassificationEvaluator"
   ]
  },
  {
   "cell_type": "code",
   "execution_count": 5,
   "id": "6a253f17-cf4a-41d3-9f27-fbda9949b282",
   "metadata": {
    "tags": []
   },
   "outputs": [],
   "source": [
    "spark = SparkSession.builder.appName(\"datasets classification\").getOrCreate()\n",
    "df = spark.read.csv(\"../../../datas/train.csv\", header=\"True\", inferSchema=\"True\")"
   ]
  },
  {
   "cell_type": "code",
   "execution_count": 6,
   "id": "74280385-2849-4bf2-bb54-e624d41b43b2",
   "metadata": {
    "tags": []
   },
   "outputs": [
    {
     "data": {
      "text/html": [
       "<div>\n",
       "<style scoped>\n",
       "    .dataframe tbody tr th:only-of-type {\n",
       "        vertical-align: middle;\n",
       "    }\n",
       "\n",
       "    .dataframe tbody tr th {\n",
       "        vertical-align: top;\n",
       "    }\n",
       "\n",
       "    .dataframe thead th {\n",
       "        text-align: right;\n",
       "    }\n",
       "</style>\n",
       "<table border=\"1\" class=\"dataframe\">\n",
       "  <thead>\n",
       "    <tr style=\"text-align: right;\">\n",
       "      <th></th>\n",
       "      <th>PassengerId</th>\n",
       "      <th>Survived</th>\n",
       "      <th>Pclass</th>\n",
       "      <th>Name</th>\n",
       "      <th>Sex</th>\n",
       "      <th>Age</th>\n",
       "      <th>SibSp</th>\n",
       "      <th>Parch</th>\n",
       "      <th>Ticket</th>\n",
       "      <th>Fare</th>\n",
       "      <th>Cabin</th>\n",
       "      <th>Embarked</th>\n",
       "    </tr>\n",
       "  </thead>\n",
       "  <tbody>\n",
       "    <tr>\n",
       "      <th>0</th>\n",
       "      <td>1</td>\n",
       "      <td>0</td>\n",
       "      <td>3</td>\n",
       "      <td>Braund, Mr. Owen Harris</td>\n",
       "      <td>male</td>\n",
       "      <td>22.0</td>\n",
       "      <td>1</td>\n",
       "      <td>0</td>\n",
       "      <td>A/5 21171</td>\n",
       "      <td>7.2500</td>\n",
       "      <td>None</td>\n",
       "      <td>S</td>\n",
       "    </tr>\n",
       "    <tr>\n",
       "      <th>1</th>\n",
       "      <td>2</td>\n",
       "      <td>1</td>\n",
       "      <td>1</td>\n",
       "      <td>Cumings, Mrs. John Bradley (Florence Briggs Th...</td>\n",
       "      <td>female</td>\n",
       "      <td>38.0</td>\n",
       "      <td>1</td>\n",
       "      <td>0</td>\n",
       "      <td>PC 17599</td>\n",
       "      <td>71.2833</td>\n",
       "      <td>C85</td>\n",
       "      <td>C</td>\n",
       "    </tr>\n",
       "    <tr>\n",
       "      <th>2</th>\n",
       "      <td>3</td>\n",
       "      <td>1</td>\n",
       "      <td>3</td>\n",
       "      <td>Heikkinen, Miss. Laina</td>\n",
       "      <td>female</td>\n",
       "      <td>26.0</td>\n",
       "      <td>0</td>\n",
       "      <td>0</td>\n",
       "      <td>STON/O2. 3101282</td>\n",
       "      <td>7.9250</td>\n",
       "      <td>None</td>\n",
       "      <td>S</td>\n",
       "    </tr>\n",
       "  </tbody>\n",
       "</table>\n",
       "</div>"
      ],
      "text/plain": [
       "   PassengerId  Survived  Pclass  \\\n",
       "0            1         0       3   \n",
       "1            2         1       1   \n",
       "2            3         1       3   \n",
       "\n",
       "                                                Name     Sex   Age  SibSp  \\\n",
       "0                            Braund, Mr. Owen Harris    male  22.0      1   \n",
       "1  Cumings, Mrs. John Bradley (Florence Briggs Th...  female  38.0      1   \n",
       "2                             Heikkinen, Miss. Laina  female  26.0      0   \n",
       "\n",
       "   Parch            Ticket     Fare Cabin Embarked  \n",
       "0      0         A/5 21171   7.2500  None        S  \n",
       "1      0          PC 17599  71.2833   C85        C  \n",
       "2      0  STON/O2. 3101282   7.9250  None        S  "
      ]
     },
     "execution_count": 6,
     "metadata": {},
     "output_type": "execute_result"
    }
   ],
   "source": [
    "df.limit(3).toPandas()"
   ]
  },
  {
   "cell_type": "code",
   "execution_count": 7,
   "id": "82c7d1b5-079c-42ed-a830-9108944b3b12",
   "metadata": {
    "tags": []
   },
   "outputs": [
    {
     "name": "stdout",
     "output_type": "stream",
     "text": [
      "root\n",
      " |-- PassengerId: integer (nullable = true)\n",
      " |-- Survived: integer (nullable = true)\n",
      " |-- Pclass: integer (nullable = true)\n",
      " |-- Name: string (nullable = true)\n",
      " |-- Sex: string (nullable = true)\n",
      " |-- Age: double (nullable = true)\n",
      " |-- SibSp: integer (nullable = true)\n",
      " |-- Parch: integer (nullable = true)\n",
      " |-- Ticket: string (nullable = true)\n",
      " |-- Fare: double (nullable = true)\n",
      " |-- Cabin: string (nullable = true)\n",
      " |-- Embarked: string (nullable = true)\n",
      "\n"
     ]
    }
   ],
   "source": [
    "df.printSchema()"
   ]
  },
  {
   "cell_type": "code",
   "execution_count": 8,
   "id": "6cd4da3b-0aef-458c-9113-1061b526882d",
   "metadata": {
    "tags": []
   },
   "outputs": [
    {
     "name": "stderr",
     "output_type": "stream",
     "text": [
      "/tmp/ipykernel_332104/1046476997.py:4: UserWarning: \n",
      "\n",
      "`distplot` is a deprecated function and will be removed in seaborn v0.14.0.\n",
      "\n",
      "Please adapt your code to use either `displot` (a figure-level function with\n",
      "similar flexibility) or `histplot` (an axes-level function for histograms).\n",
      "\n",
      "For a guide to updating your code to use the new functions, please see\n",
      "https://gist.github.com/mwaskom/de44147ed2974457ad6372750bbe5751\n",
      "\n",
      "  sns.distplot(pandas_df[\"Age\"])\n"
     ]
    },
    {
     "data": {
      "text/plain": [
       "<Axes: title={'center': 'Age distribute'}, xlabel='Age', ylabel='Density'>"
      ]
     },
     "execution_count": 8,
     "metadata": {},
     "output_type": "execute_result"
    },
    {
     "data": {
      "image/png": "[encoded data removed]",
      "text/plain": [
       "<Figure size 1000x500 with 1 Axes>"
      ]
     },
     "metadata": {},
     "output_type": "display_data"
    }
   ],
   "source": [
    "pandas_df = df.toPandas()\n",
    "plt.figure(figsize=(10, 5))\n",
    "plt.title(\"Age distribute\")\n",
    "sns.distplot(pandas_df[\"Age\"])"
   ]
  },
  {
   "cell_type": "code",
   "execution_count": 12,
   "id": "ab844b19-6649-4158-b2b8-9fe2201eb568",
   "metadata": {
    "tags": []
   },
   "outputs": [
    {
     "name": "stdout",
     "output_type": "stream",
     "text": [
      "+-----------+--------+------+----+---+---+-----+-----+------+----+-----+--------+\n",
      "|PassengerId|Survived|Pclass|Name|Sex|Age|SibSp|Parch|Ticket|Fare|Cabin|Embarked|\n",
      "+-----------+--------+------+----+---+---+-----+-----+------+----+-----+--------+\n",
      "|          0|       0|     0|   0|  0|177|    0|    0|     0|   0|  687|       2|\n",
      "+-----------+--------+------+----+---+---+-----+-----+------+----+-----+--------+\n",
      "\n"
     ]
    }
   ],
   "source": [
    "df.select([count(when(isnan(c) | col(c).isNull(), c)).alias(c) for c in df.columns]).show()"
   ]
  },
  {
   "cell_type": "code",
   "execution_count": 22,
   "id": "00a4e552-e37b-42d7-a10a-aea58ee16d48",
   "metadata": {
    "tags": []
   },
   "outputs": [],
   "source": [
    "df = df.drop(\"Cabin\")  # missing over 50%"
   ]
  },
  {
   "cell_type": "code",
   "execution_count": 17,
   "id": "0e673e80-61ec-4ae6-a03b-9c69334722e8",
   "metadata": {
    "tags": []
   },
   "outputs": [
    {
     "data": {
      "text/html": [
       "<div>\n",
       "<style scoped>\n",
       "    .dataframe tbody tr th:only-of-type {\n",
       "        vertical-align: middle;\n",
       "    }\n",
       "\n",
       "    .dataframe tbody tr th {\n",
       "        vertical-align: top;\n",
       "    }\n",
       "\n",
       "    .dataframe thead th {\n",
       "        text-align: right;\n",
       "    }\n",
       "</style>\n",
       "<table border=\"1\" class=\"dataframe\">\n",
       "  <thead>\n",
       "    <tr style=\"text-align: right;\">\n",
       "      <th></th>\n",
       "      <th>PassengerId</th>\n",
       "      <th>Survived</th>\n",
       "      <th>Pclass</th>\n",
       "      <th>Name</th>\n",
       "      <th>Sex</th>\n",
       "      <th>Age</th>\n",
       "      <th>SibSp</th>\n",
       "      <th>Parch</th>\n",
       "      <th>Ticket</th>\n",
       "      <th>Fare</th>\n",
       "      <th>Cabin</th>\n",
       "      <th>Embarked</th>\n",
       "      <th>Initial</th>\n",
       "    </tr>\n",
       "  </thead>\n",
       "  <tbody>\n",
       "    <tr>\n",
       "      <th>0</th>\n",
       "      <td>1</td>\n",
       "      <td>0</td>\n",
       "      <td>3</td>\n",
       "      <td>Braund, Mr. Owen Harris</td>\n",
       "      <td>male</td>\n",
       "      <td>22.0</td>\n",
       "      <td>1</td>\n",
       "      <td>0</td>\n",
       "      <td>A/5 21171</td>\n",
       "      <td>7.2500</td>\n",
       "      <td>None</td>\n",
       "      <td>S</td>\n",
       "      <td>Mr</td>\n",
       "    </tr>\n",
       "    <tr>\n",
       "      <th>1</th>\n",
       "      <td>2</td>\n",
       "      <td>1</td>\n",
       "      <td>1</td>\n",
       "      <td>Cumings, Mrs. John Bradley (Florence Briggs Th...</td>\n",
       "      <td>female</td>\n",
       "      <td>38.0</td>\n",
       "      <td>1</td>\n",
       "      <td>0</td>\n",
       "      <td>PC 17599</td>\n",
       "      <td>71.2833</td>\n",
       "      <td>C85</td>\n",
       "      <td>C</td>\n",
       "      <td>Mrs</td>\n",
       "    </tr>\n",
       "    <tr>\n",
       "      <th>2</th>\n",
       "      <td>3</td>\n",
       "      <td>1</td>\n",
       "      <td>3</td>\n",
       "      <td>Heikkinen, Miss. Laina</td>\n",
       "      <td>female</td>\n",
       "      <td>26.0</td>\n",
       "      <td>0</td>\n",
       "      <td>0</td>\n",
       "      <td>STON/O2. 3101282</td>\n",
       "      <td>7.9250</td>\n",
       "      <td>None</td>\n",
       "      <td>S</td>\n",
       "      <td>Miss</td>\n",
       "    </tr>\n",
       "  </tbody>\n",
       "</table>\n",
       "</div>"
      ],
      "text/plain": [
       "   PassengerId  Survived  Pclass  \\\n",
       "0            1         0       3   \n",
       "1            2         1       1   \n",
       "2            3         1       3   \n",
       "\n",
       "                                                Name     Sex   Age  SibSp  \\\n",
       "0                            Braund, Mr. Owen Harris    male  22.0      1   \n",
       "1  Cumings, Mrs. John Bradley (Florence Briggs Th...  female  38.0      1   \n",
       "2                             Heikkinen, Miss. Laina  female  26.0      0   \n",
       "\n",
       "   Parch            Ticket     Fare Cabin Embarked Initial  \n",
       "0      0         A/5 21171   7.2500  None        S      Mr  \n",
       "1      0          PC 17599  71.2833   C85        C     Mrs  \n",
       "2      0  STON/O2. 3101282   7.9250  None        S    Miss  "
      ]
     },
     "execution_count": 17,
     "metadata": {},
     "output_type": "execute_result"
    }
   ],
   "source": [
    "df = df.withColumn(\"Initial\", regexp_extract(col(\"Name\"), \"([A-Za-z]+)\\.\", 1))\n",
    "df.limit(3).toPandas()"
   ]
  },
  {
   "cell_type": "code",
   "execution_count": 18,
   "id": "8b86848e-1814-4360-af97-a3c02ee45a28",
   "metadata": {
    "tags": []
   },
   "outputs": [
    {
     "data": {
      "text/plain": [
       "[Row(Initial='Miss', avg(Age)=21.86),\n",
       " Row(Initial='Other', avg(Age)=45.888888888888886),\n",
       " Row(Initial='Master', avg(Age)=4.574166666666667),\n",
       " Row(Initial='Mr', avg(Age)=32.73960880195599),\n",
       " Row(Initial='Mrs', avg(Age)=35.981818181818184)]"
      ]
     },
     "execution_count": 18,
     "metadata": {},
     "output_type": "execute_result"
    }
   ],
   "source": [
    "df = df.replace(['Mlle','Mme', 'Ms', 'Dr','Major','Lady','Countess','Jonkheer','Col','Rev','Capt','Sir','Don'],\n",
    "                        ['Miss','Miss','Miss','Mr','Mr',  'Mrs',  'Mrs',  'Other',  'Other','Other','Mr','Mr','Mr'])\n",
    "\n",
    "df.groupby(\"Initial\").avg(\"Age\").collect()"
   ]
  },
  {
   "cell_type": "code",
   "execution_count": 19,
   "id": "1aac2c81-266f-46d2-9a2c-47388da3fb93",
   "metadata": {
    "tags": []
   },
   "outputs": [],
   "source": [
    "df = df.withColumn(\"Age\", when((df[\"Initial\"] == \"Miss\") & (df[\"Age\"].isNull()), 22).otherwise(df[\"Age\"]))\n",
    "df = df.withColumn(\"Age\", when((df[\"Initial\"] == \"Other\") & (df[\"Age\"].isNull()), 46).otherwise(df[\"Age\"]))\n",
    "df = df.withColumn(\"Age\", when((df[\"Initial\"] == \"Master\") & (df[\"Age\"].isNull()), 5).otherwise(df[\"Age\"]))\n",
    "df = df.withColumn(\"Age\", when((df[\"Initial\"] == \"Mr\") & (df[\"Age\"].isNull()), 33).otherwise(df[\"Age\"]))\n",
    "df = df.withColumn(\"Age\", when((df[\"Initial\"] == \"Mrs\") & (df[\"Age\"].isNull()), 36).otherwise(df[\"Age\"]))"
   ]
  },
  {
   "cell_type": "code",
   "execution_count": 20,
   "id": "4462efdc-cd60-4d71-8cf0-8b4b060999bb",
   "metadata": {
    "tags": []
   },
   "outputs": [
    {
     "name": "stdout",
     "output_type": "stream",
     "text": [
      "+--------+-----+\n",
      "|Embarked|count|\n",
      "+--------+-----+\n",
      "|       Q|   77|\n",
      "|    null|    2|\n",
      "|       C|  168|\n",
      "|       S|  644|\n",
      "+--------+-----+\n",
      "\n"
     ]
    }
   ],
   "source": [
    "df.groupby(\"Embarked\").count().show()"
   ]
  },
  {
   "cell_type": "code",
   "execution_count": 23,
   "id": "f3fa387b-4061-4cfc-9d60-5ea03f2241a1",
   "metadata": {
    "tags": []
   },
   "outputs": [
    {
     "name": "stdout",
     "output_type": "stream",
     "text": [
      "+-----------+--------+------+----+---+---+-----+-----+------+----+--------+-------+\n",
      "|PassengerId|Survived|Pclass|Name|Sex|Age|SibSp|Parch|Ticket|Fare|Embarked|Initial|\n",
      "+-----------+--------+------+----+---+---+-----+-----+------+----+--------+-------+\n",
      "|          0|       0|     0|   0|  0|  0|    0|    0|     0|   0|       0|      0|\n",
      "+-----------+--------+------+----+---+---+-----+-----+------+----+--------+-------+\n",
      "\n"
     ]
    }
   ],
   "source": [
    "df = df.na.fill({\"Embarked\": \"S\"})  # 众数填充\n",
    "df.select([count(when(isnan(c) | col(c).isNull(), c)).alias(c) for c in df.columns]).show()"
   ]
  },
  {
   "cell_type": "code",
   "execution_count": 28,
   "id": "29d9274f-e61d-4223-b013-31022ac96614",
   "metadata": {
    "tags": []
   },
   "outputs": [],
   "source": [
    "df = df.withColumn(\"Family_Size\", col(\"SibSp\")+col(\"Parch\"))\n",
    "df = df.withColumn(\"Alone\", lit(0))\n",
    "df = df.withColumn(\"Alone\", when(df[\"Family_Size\"] == 0, 1).otherwise(df[\"Alone\"]))"
   ]
  },
  {
   "cell_type": "code",
   "execution_count": 37,
   "id": "22ae7b7b-fcdb-4b1e-9bf5-6c2b3ff5d5e4",
   "metadata": {
    "tags": []
   },
   "outputs": [],
   "source": [
    "# convert category to int\n",
    "indexers = [StringIndexer(inputCol=column, outputCol=column+\"_index\").fit(df) for column in [\"Sex\",\"Embarked\",\"Initial\"]]\n",
    "pipeline = Pipeline(stages=indexers)\n",
    "df = pipeline.fit(df).transform(df)"
   ]
  },
  {
   "cell_type": "code",
   "execution_count": 38,
   "id": "86543049-8cc8-4496-b417-4919daaba604",
   "metadata": {
    "tags": []
   },
   "outputs": [
    {
     "data": {
      "text/html": [
       "<div>\n",
       "<style scoped>\n",
       "    .dataframe tbody tr th:only-of-type {\n",
       "        vertical-align: middle;\n",
       "    }\n",
       "\n",
       "    .dataframe tbody tr th {\n",
       "        vertical-align: top;\n",
       "    }\n",
       "\n",
       "    .dataframe thead th {\n",
       "        text-align: right;\n",
       "    }\n",
       "</style>\n",
       "<table border=\"1\" class=\"dataframe\">\n",
       "  <thead>\n",
       "    <tr style=\"text-align: right;\">\n",
       "      <th></th>\n",
       "      <th>PassengerId</th>\n",
       "      <th>Survived</th>\n",
       "      <th>Pclass</th>\n",
       "      <th>Name</th>\n",
       "      <th>Sex</th>\n",
       "      <th>Age</th>\n",
       "      <th>SibSp</th>\n",
       "      <th>Parch</th>\n",
       "      <th>Ticket</th>\n",
       "      <th>Fare</th>\n",
       "      <th>Embarked</th>\n",
       "      <th>Initial</th>\n",
       "      <th>Family_Size</th>\n",
       "      <th>Alone</th>\n",
       "      <th>Sex_index</th>\n",
       "      <th>Embarked_index</th>\n",
       "      <th>Initial_index</th>\n",
       "    </tr>\n",
       "  </thead>\n",
       "  <tbody>\n",
       "    <tr>\n",
       "      <th>0</th>\n",
       "      <td>1</td>\n",
       "      <td>0</td>\n",
       "      <td>3</td>\n",
       "      <td>Braund, Mr. Owen Harris</td>\n",
       "      <td>male</td>\n",
       "      <td>22.0</td>\n",
       "      <td>1</td>\n",
       "      <td>0</td>\n",
       "      <td>A/5 21171</td>\n",
       "      <td>7.2500</td>\n",
       "      <td>S</td>\n",
       "      <td>Mr</td>\n",
       "      <td>1</td>\n",
       "      <td>0</td>\n",
       "      <td>0.0</td>\n",
       "      <td>0.0</td>\n",
       "      <td>0.0</td>\n",
       "    </tr>\n",
       "    <tr>\n",
       "      <th>1</th>\n",
       "      <td>2</td>\n",
       "      <td>1</td>\n",
       "      <td>1</td>\n",
       "      <td>Cumings, Mrs. John Bradley (Florence Briggs Th...</td>\n",
       "      <td>female</td>\n",
       "      <td>38.0</td>\n",
       "      <td>1</td>\n",
       "      <td>0</td>\n",
       "      <td>PC 17599</td>\n",
       "      <td>71.2833</td>\n",
       "      <td>C</td>\n",
       "      <td>Mrs</td>\n",
       "      <td>1</td>\n",
       "      <td>0</td>\n",
       "      <td>1.0</td>\n",
       "      <td>1.0</td>\n",
       "      <td>2.0</td>\n",
       "    </tr>\n",
       "    <tr>\n",
       "      <th>2</th>\n",
       "      <td>3</td>\n",
       "      <td>1</td>\n",
       "      <td>3</td>\n",
       "      <td>Heikkinen, Miss. Laina</td>\n",
       "      <td>female</td>\n",
       "      <td>26.0</td>\n",
       "      <td>0</td>\n",
       "      <td>0</td>\n",
       "      <td>STON/O2. 3101282</td>\n",
       "      <td>7.9250</td>\n",
       "      <td>S</td>\n",
       "      <td>Miss</td>\n",
       "      <td>0</td>\n",
       "      <td>1</td>\n",
       "      <td>1.0</td>\n",
       "      <td>0.0</td>\n",
       "      <td>1.0</td>\n",
       "    </tr>\n",
       "  </tbody>\n",
       "</table>\n",
       "</div>"
      ],
      "text/plain": [
       "   PassengerId  Survived  Pclass  \\\n",
       "0            1         0       3   \n",
       "1            2         1       1   \n",
       "2            3         1       3   \n",
       "\n",
       "                                                Name     Sex   Age  SibSp  \\\n",
       "0                            Braund, Mr. Owen Harris    male  22.0      1   \n",
       "1  Cumings, Mrs. John Bradley (Florence Briggs Th...  female  38.0      1   \n",
       "2                             Heikkinen, Miss. Laina  female  26.0      0   \n",
       "\n",
       "   Parch            Ticket     Fare Embarked Initial  Family_Size  Alone  \\\n",
       "0      0         A/5 21171   7.2500        S      Mr            1      0   \n",
       "1      0          PC 17599  71.2833        C     Mrs            1      0   \n",
       "2      0  STON/O2. 3101282   7.9250        S    Miss            0      1   \n",
       "\n",
       "   Sex_index  Embarked_index  Initial_index  \n",
       "0        0.0             0.0            0.0  \n",
       "1        1.0             1.0            2.0  \n",
       "2        1.0             0.0            1.0  "
      ]
     },
     "execution_count": 38,
     "metadata": {},
     "output_type": "execute_result"
    }
   ],
   "source": [
    "df.limit(3).toPandas()"
   ]
  },
  {
   "cell_type": "code",
   "execution_count": 40,
   "id": "59b415fe-c959-4fcb-8802-df71462a78e1",
   "metadata": {
    "tags": []
   },
   "outputs": [
    {
     "data": {
      "text/html": [
       "<div>\n",
       "<style scoped>\n",
       "    .dataframe tbody tr th:only-of-type {\n",
       "        vertical-align: middle;\n",
       "    }\n",
       "\n",
       "    .dataframe tbody tr th {\n",
       "        vertical-align: top;\n",
       "    }\n",
       "\n",
       "    .dataframe thead th {\n",
       "        text-align: right;\n",
       "    }\n",
       "</style>\n",
       "<table border=\"1\" class=\"dataframe\">\n",
       "  <thead>\n",
       "    <tr style=\"text-align: right;\">\n",
       "      <th></th>\n",
       "      <th>Survived</th>\n",
       "      <th>Pclass</th>\n",
       "      <th>Age</th>\n",
       "      <th>SibSp</th>\n",
       "      <th>Parch</th>\n",
       "      <th>Fare</th>\n",
       "      <th>Family_Size</th>\n",
       "      <th>Alone</th>\n",
       "      <th>Sex_index</th>\n",
       "      <th>Embarked_index</th>\n",
       "      <th>Initial_index</th>\n",
       "      <th>features</th>\n",
       "    </tr>\n",
       "  </thead>\n",
       "  <tbody>\n",
       "    <tr>\n",
       "      <th>0</th>\n",
       "      <td>0</td>\n",
       "      <td>3</td>\n",
       "      <td>22.0</td>\n",
       "      <td>1</td>\n",
       "      <td>0</td>\n",
       "      <td>7.2500</td>\n",
       "      <td>1</td>\n",
       "      <td>0</td>\n",
       "      <td>0.0</td>\n",
       "      <td>0.0</td>\n",
       "      <td>0.0</td>\n",
       "      <td>(3.0, 22.0, 1.0, 0.0, 7.25, 1.0, 0.0, 0.0, 0.0...</td>\n",
       "    </tr>\n",
       "    <tr>\n",
       "      <th>1</th>\n",
       "      <td>1</td>\n",
       "      <td>1</td>\n",
       "      <td>38.0</td>\n",
       "      <td>1</td>\n",
       "      <td>0</td>\n",
       "      <td>71.2833</td>\n",
       "      <td>1</td>\n",
       "      <td>0</td>\n",
       "      <td>1.0</td>\n",
       "      <td>1.0</td>\n",
       "      <td>2.0</td>\n",
       "      <td>[1.0, 38.0, 1.0, 0.0, 71.2833, 1.0, 0.0, 1.0, ...</td>\n",
       "    </tr>\n",
       "    <tr>\n",
       "      <th>2</th>\n",
       "      <td>1</td>\n",
       "      <td>3</td>\n",
       "      <td>26.0</td>\n",
       "      <td>0</td>\n",
       "      <td>0</td>\n",
       "      <td>7.9250</td>\n",
       "      <td>0</td>\n",
       "      <td>1</td>\n",
       "      <td>1.0</td>\n",
       "      <td>0.0</td>\n",
       "      <td>1.0</td>\n",
       "      <td>[3.0, 26.0, 0.0, 0.0, 7.925, 0.0, 1.0, 1.0, 0....</td>\n",
       "    </tr>\n",
       "  </tbody>\n",
       "</table>\n",
       "</div>"
      ],
      "text/plain": [
       "   Survived  Pclass   Age  SibSp  Parch     Fare  Family_Size  Alone  \\\n",
       "0         0       3  22.0      1      0   7.2500            1      0   \n",
       "1         1       1  38.0      1      0  71.2833            1      0   \n",
       "2         1       3  26.0      0      0   7.9250            0      1   \n",
       "\n",
       "   Sex_index  Embarked_index  Initial_index  \\\n",
       "0        0.0             0.0            0.0   \n",
       "1        1.0             1.0            2.0   \n",
       "2        1.0             0.0            1.0   \n",
       "\n",
       "                                            features  \n",
       "0  (3.0, 22.0, 1.0, 0.0, 7.25, 1.0, 0.0, 0.0, 0.0...  \n",
       "1  [1.0, 38.0, 1.0, 0.0, 71.2833, 1.0, 0.0, 1.0, ...  \n",
       "2  [3.0, 26.0, 0.0, 0.0, 7.925, 0.0, 1.0, 1.0, 0....  "
      ]
     },
     "execution_count": 40,
     "metadata": {},
     "output_type": "execute_result"
    }
   ],
   "source": [
    "# \"PassengerId\",\"Name\",\"Ticket\",\"Cabin\",\"Embarked\",\"Sex\",\"Initial\"\n",
    "\n",
    "df = df.drop(\"PassengerId\",\"Name\",\"Ticket\",\"Cabin\",\"Embarked\",\"Sex\",\"Initial\")\n",
    "\n",
    "feature = VectorAssembler(inputCols=df.columns[1:], outputCol=\"features\")\n",
    "feature_vector = feature.transform(df)\n",
    "feature_vector.limit(3).toPandas()"
   ]
  },
  {
   "cell_type": "code",
   "execution_count": 42,
   "id": "2b3aa165-f684-4176-8e3e-bb79b9f45516",
   "metadata": {
    "tags": []
   },
   "outputs": [
    {
     "name": "stdout",
     "output_type": "stream",
     "text": [
      "root\n",
      " |-- Survived: integer (nullable = true)\n",
      " |-- Pclass: integer (nullable = true)\n",
      " |-- Age: double (nullable = true)\n",
      " |-- SibSp: integer (nullable = true)\n",
      " |-- Parch: integer (nullable = true)\n",
      " |-- Fare: double (nullable = true)\n",
      " |-- Family_Size: integer (nullable = true)\n",
      " |-- Alone: integer (nullable = false)\n",
      " |-- Sex_index: double (nullable = false)\n",
      " |-- Embarked_index: double (nullable = false)\n",
      " |-- Initial_index: double (nullable = false)\n",
      " |-- features: vector (nullable = true)\n",
      "\n"
     ]
    }
   ],
   "source": [
    "(train_df, test_df) = feature_vector.randomSplit([0.8, 0.2], seed=111)\n",
    "train_df.printSchema()"
   ]
  },
  {
   "cell_type": "code",
   "execution_count": 43,
   "id": "c041ab66-3586-4b3b-afd2-f189426ce996",
   "metadata": {
    "tags": []
   },
   "outputs": [],
   "source": [
    "titanic_df = feature_vector.select([\"features\", \"Survived\"])\n",
    "train_df, test_df = titanic_df.randomSplit([0.75, 0.25], seed=112)"
   ]
  },
  {
   "cell_type": "code",
   "execution_count": 48,
   "id": "df78221a-741a-40e0-85e7-f026c5e633f1",
   "metadata": {
    "tags": []
   },
   "outputs": [],
   "source": [
    "from pyspark.ml.classification import LogisticRegression\n",
    "from pyspark.ml.tuning import ParamGridBuilder, TrainValidationSplit, CrossValidator\n",
    "from pyspark.ml import Pipeline\n",
    "from pyspark.ml.evaluation import BinaryClassificationEvaluator, MulticlassClassificationEvaluator\n",
    "from sklearn.metrics import roc_curve, auc\n"
   ]
  },
  {
   "cell_type": "code",
   "execution_count": 46,
   "id": "8c3b205a-bd57-43f2-9df9-0d7ffbc230af",
   "metadata": {
    "tags": []
   },
   "outputs": [],
   "source": [
    "lr = LogisticRegression(labelCol=\"Survived\")"
   ]
  },
  {
   "cell_type": "code",
   "execution_count": 47,
   "id": "fcaa0099-9357-4790-8628-26b3412228f9",
   "metadata": {
    "tags": []
   },
   "outputs": [],
   "source": [
    "paramGrid = ParamGridBuilder().addGrid(lr.regParam, (0.01, 0.1)).addGrid(lr.maxIter, (5, 10)).addGrid(lr.tol, (1e-4, 1e-5)).addGrid(lr.elasticNetParam, (0.25, 0.75)).build()"
   ]
  },
  {
   "cell_type": "code",
   "execution_count": 49,
   "id": "b7baec27-3ac5-4a61-be4f-67110f58e436",
   "metadata": {
    "tags": []
   },
   "outputs": [],
   "source": [
    "tvs = TrainValidationSplit(estimator=lr, estimatorParamMaps=paramGrid, evaluator=MulticlassClassificationEvaluator(labelCol=\"Survived\"), trainRatio=0.8)"
   ]
  },
  {
   "cell_type": "code",
   "execution_count": 50,
   "id": "b6e0da26-d683-4883-b022-fa1649ae98d7",
   "metadata": {
    "tags": []
   },
   "outputs": [
    {
     "name": "stderr",
     "output_type": "stream",
     "text": [
      "23/07/07 11:16:34 WARN InstanceBuilder: Failed to load implementation from:dev.ludovic.netlib.blas.JNIBLAS\n"
     ]
    }
   ],
   "source": [
    "%%time\n",
    "\n",
    "model = tvs.fit(train_df)"
   ]
  },
  {
   "cell_type": "code",
   "execution_count": 51,
   "id": "26401620-10fa-463a-afa6-cc7d35b0ed62",
   "metadata": {
    "tags": []
   },
   "outputs": [],
   "source": [
    "model_predictions = model.transform(test_df)"
   ]
  },
  {
   "cell_type": "code",
   "execution_count": 52,
   "id": "091c84be-b939-4214-bb1a-c69f37ad1dde",
   "metadata": {
    "tags": []
   },
   "outputs": [
    {
     "name": "stdout",
     "output_type": "stream",
     "text": [
      "Accuracy 0.8181818181818182\n",
      "Accuracy 0.816364847677306\n"
     ]
    }
   ],
   "source": [
    "print(\"Accuracy\", MulticlassClassificationEvaluator(labelCol=\"Survived\", metricName=\"accuracy\").evaluate(model_predictions))\n",
    "print(\"Accuracy\", MulticlassClassificationEvaluator(labelCol=\"Survived\", metricName=\"weightedPrecision\").evaluate(model_predictions))"
   ]
  },
  {
   "cell_type": "code",
   "execution_count": 54,
   "id": "32a310cf-cc4e-4497-8519-8e74b8cfa1c7",
   "metadata": {
    "tags": []
   },
   "outputs": [
    {
     "name": "stdout",
     "output_type": "stream",
     "text": [
      "root\n",
      " |-- features: vector (nullable = true)\n",
      " |-- Survived: integer (nullable = true)\n",
      " |-- rawPrediction: vector (nullable = true)\n",
      " |-- probability: vector (nullable = true)\n",
      " |-- prediction: double (nullable = false)\n",
      "\n"
     ]
    }
   ],
   "source": [
    "model_predictions.printSchema()"
   ]
  },
  {
   "cell_type": "code",
   "execution_count": null,
   "id": "a42f6875-bf08-4fff-86db-3bde92bc67fb",
   "metadata": {},
   "outputs": [],
   "source": [
    "print('Accuracy: ', MulticlassClassificationEvaluator(labelCol='Survived',metricName='accuracy').evaluate(model_predictions))\n",
    "print('Precision: ',MulticlassClassificationEvaluator(labelCol='Survived',metricName='weightedPrecision').evaluate(model_predictions))"
   ]
  },
  {
   "cell_type": "code",
   "execution_count": 58,
   "id": "2637a3f2-cf7c-443b-ba0d-e9740ab65690",
   "metadata": {
    "tags": []
   },
   "outputs": [
    {
     "name": "stderr",
     "output_type": "stream",
     "text": [
      "/home/liyg/.local/lib/python3.9/site-packages/pyspark/sql/context.py:157: FutureWarning: Deprecated in 3.0.0. Use SparkSession.builder.getOrCreate() instead.\n",
      "  warnings.warn(\n"
     ]
    },
    {
     "name": "stdout",
     "output_type": "stream",
     "text": [
      "ROC is  0.8604351329572926\n"
     ]
    }
   ],
   "source": [
    "from pyspark.mllib.evaluation import BinaryClassificationMetrics as metric\n",
    "from pyspark import SparkContext\n",
    "sc = SparkContext.getOrCreate()\n",
    "results = model_predictions.select(\"probability\",\"Survived\")\n",
    "results_collect = results.collect()\n",
    "results_list = [(float(i[0][0]), 1.0-float(i[1])) for i in results_collect]\n",
    "scoreAndLabels = sc.parallelize(results_list)\n",
    "metrics = metric(scoreAndLabels)\n",
    "print(\"ROC is \", metrics.areaUnderROC)"
   ]
  },
  {
   "cell_type": "code",
   "execution_count": 60,
   "id": "898426a0-c486-4c80-ae0c-ab702ba44e37",
   "metadata": {
    "tags": []
   },
   "outputs": [
    {
     "data": {
      "image/png": "[encoded data removed]",
      "text/plain": [
       "<Figure size 640x480 with 1 Axes>"
      ]
     },
     "metadata": {},
     "output_type": "display_data"
    }
   ],
   "source": [
    "from sklearn.metrics import roc_curve, auc\n",
    "\n",
    "fpr = dict()\n",
    "tpr = dict()\n",
    "roc_auc = dict()\n",
    "\n",
    "y_test = [i[1] for i in results_list]\n",
    "y_score = [i[0] for i in results_list]\n",
    "\n",
    "fpr, tpr, _ = roc_curve(y_true=y_test, y_score=y_score)\n",
    "roc_auc = auc(fpr, tpr)\n",
    "\n",
    "%matplotlib inline\n",
    "plt.figure()\n",
    "plt.plot(fpr, tpr, label=\"ROC Curve (area=%0.2f)\" % roc_auc)\n",
    "plt.plot([0, 1], [0, 1], \"k--\")\n",
    "plt.xlim([0.0, 1.0])\n",
    "plt.ylim([0.0, 1.05])\n",
    "plt.xlabel(\"False Positive Rate\")\n",
    "plt.ylabel(\"True Positive Rate\")\n",
    "plt.title(\"Area under ROC Curve\")\n",
    "plt.legend(loc=\"lower right\")\n",
    "plt.show()\n"
   ]
  },
  {
   "cell_type": "code",
   "execution_count": 68,
   "id": "4117e241-6bfa-4375-942c-009f5a83e5f2",
   "metadata": {
    "tags": []
   },
   "outputs": [
    {
     "name": "stderr",
     "output_type": "stream",
     "text": [
      "23/07/07 15:52:29 WARN DAGScheduler: Broadcasting large task binary with size 1107.3 KiB\n",
      "23/07/07 15:52:31 WARN DAGScheduler: Broadcasting large task binary with size 1010.3 KiB\n",
      "23/07/07 15:52:40 WARN DAGScheduler: Broadcasting large task binary with size 1052.0 KiB\n",
      "23/07/07 15:52:42 WARN DAGScheduler: Broadcasting large task binary with size 1017.6 KiB\n",
      "23/07/07 15:52:50 WARN DAGScheduler: Broadcasting large task binary with size 1054.4 KiB\n",
      "23/07/07 15:53:02 WARN DAGScheduler: Broadcasting large task binary with size 1107.3 KiB\n",
      "23/07/07 15:53:02 WARN DAGScheduler: Broadcasting large task binary with size 1194.3 KiB\n",
      "23/07/07 15:53:02 WARN DAGScheduler: Broadcasting large task binary with size 1226.5 KiB\n",
      "23/07/07 15:53:02 WARN DAGScheduler: Broadcasting large task binary with size 1148.0 KiB\n",
      "23/07/07 15:53:05 WARN DAGScheduler: Broadcasting large task binary with size 1010.3 KiB\n",
      "23/07/07 15:53:05 WARN DAGScheduler: Broadcasting large task binary with size 1108.7 KiB\n",
      "23/07/07 15:53:05 WARN DAGScheduler: Broadcasting large task binary with size 1125.8 KiB\n",
      "23/07/07 15:53:05 WARN DAGScheduler: Broadcasting large task binary with size 1124.4 KiB\n",
      "23/07/07 15:53:16 WARN DAGScheduler: Broadcasting large task binary with size 1052.0 KiB\n",
      "23/07/07 15:53:16 WARN DAGScheduler: Broadcasting large task binary with size 1144.3 KiB\n",
      "23/07/07 15:53:16 WARN DAGScheduler: Broadcasting large task binary with size 1163.9 KiB\n",
      "23/07/07 15:53:16 WARN DAGScheduler: Broadcasting large task binary with size 1133.0 KiB\n",
      "23/07/07 15:53:18 WARN DAGScheduler: Broadcasting large task binary with size 1017.6 KiB\n",
      "23/07/07 15:53:18 WARN DAGScheduler: Broadcasting large task binary with size 1119.0 KiB\n",
      "23/07/07 15:53:18 WARN DAGScheduler: Broadcasting large task binary with size 1194.5 KiB\n",
      "23/07/07 15:53:19 WARN DAGScheduler: Broadcasting large task binary with size 1232.5 KiB\n",
      "23/07/07 15:53:19 WARN DAGScheduler: Broadcasting large task binary with size 1162.4 KiB\n",
      "23/07/07 15:53:29 WARN DAGScheduler: Broadcasting large task binary with size 1054.4 KiB\n",
      "23/07/07 15:53:29 WARN DAGScheduler: Broadcasting large task binary with size 1149.6 KiB\n",
      "23/07/07 15:53:29 WARN DAGScheduler: Broadcasting large task binary with size 1214.1 KiB\n",
      "23/07/07 15:53:30 WARN DAGScheduler: Broadcasting large task binary with size 1125.1 KiB\n",
      "23/07/07 15:53:32 WARN DAGScheduler: Broadcasting large task binary with size 1064.0 KiB\n",
      "23/07/07 15:53:32 WARN DAGScheduler: Broadcasting large task binary with size 1119.4 KiB\n",
      "23/07/07 15:53:32 WARN DAGScheduler: Broadcasting large task binary with size 1138.6 KiB\n"
     ]
    },
    {
     "name": "stdout",
     "output_type": "stream",
     "text": [
      "Acurracy is  0.8268398268398268\n",
      "Precision is  0.8250407601056952\n"
     ]
    }
   ],
   "source": [
    "from pyspark.ml.classification import RandomForestClassifier\n",
    "from pyspark.ml.tuning import ParamGridBuilder, TrainValidationSplit\n",
    "\n",
    "rf = RandomForestClassifier(labelCol=\"Survived\")\n",
    "\n",
    "paramGrid = ParamGridBuilder().addGrid(rf.maxDepth, [5, 10, 20]).addGrid(rf.maxBins, [20, 32, 50]).addGrid(rf.numTrees, [20, 40, 60]).addGrid(rf.impurity, [\"gini\", \"entropy\"]).addGrid(rf.minInstancesPerNode, [1, 5, 10]).build()\n",
    "\n",
    "tvs = TrainValidationSplit(estimator=rf, estimatorParamMaps=paramGrid, evaluator=MulticlassClassificationEvaluator(labelCol=\"Survived\"), trainRatio=0.8)\n",
    "model = tvs.fit(train_df)\n",
    "model_predictions = model.transform(test_df)\n",
    "\n",
    "print(\"Acurracy is \", MulticlassClassificationEvaluator(labelCol=\"Survived\", metricName=\"accuracy\").evaluate(model_predictions))\n",
    "print(\"Precision is \", MulticlassClassificationEvaluator(labelCol=\"Survived\", metricName=\"weightedPrecision\").evaluate(model_predictions))\n"
   ]
  },
  {
   "cell_type": "code",
   "execution_count": 69,
   "id": "7f2c4125-1b02-407a-8e99-c683eff6738e",
   "metadata": {
    "tags": []
   },
   "outputs": [
    {
     "name": "stderr",
     "output_type": "stream",
     "text": [
      "/home/liyg/.local/lib/python3.9/site-packages/pyspark/sql/context.py:157: FutureWarning: Deprecated in 3.0.0. Use SparkSession.builder.getOrCreate() instead.\n",
      "  warnings.warn(\n"
     ]
    },
    {
     "name": "stdout",
     "output_type": "stream",
     "text": [
      "The ROC score is :  0.862610797743755\n"
     ]
    }
   ],
   "source": [
    "sc =SparkContext.getOrCreate()   # We need to create SparkContext\n",
    "results = model_predictions.select(['probability', 'Survived'])\n",
    " \n",
    "## prepare score-label set\n",
    "results_collect = results.collect()\n",
    "results_list = [(float(i[0][0]), 1.0-float(i[1])) for i in results_collect]\n",
    "scoreAndLabels = sc.parallelize(results_list)\n",
    " \n",
    "metrics = metric(scoreAndLabels)\n",
    "print(\"The ROC score is : \", metrics.areaUnderROC)"
   ]
  },
  {
   "cell_type": "code",
   "execution_count": 70,
   "id": "d8994aa2-2452-4b5b-b0a2-e9cdc8331d75",
   "metadata": {
    "tags": []
   },
   "outputs": [
    {
     "data": {
      "image/png": "[encoded data removed]",
      "text/plain": [
       "<Figure size 640x480 with 1 Axes>"
      ]
     },
     "metadata": {},
     "output_type": "display_data"
    }
   ],
   "source": [
    "fpr = dict()\n",
    "tpr = dict()\n",
    "roc_auc = dict()\n",
    " \n",
    "y_test = [i[1] for i in results_list]\n",
    "y_score = [i[0] for i in results_list]\n",
    " \n",
    "fpr, tpr, _ = roc_curve(y_test, y_score)\n",
    "roc_auc = auc(fpr, tpr)\n",
    " \n",
    "%matplotlib inline\n",
    "plt.figure()\n",
    "plt.plot(fpr, tpr, label='ROC curve (area = %0.2f)' % roc_auc)\n",
    "plt.plot([0, 1], [0, 1], 'k--')\n",
    "plt.xlim([0.0, 1.0])\n",
    "plt.ylim([0.0, 1.05])\n",
    "plt.xlabel('False Positive Rate')\n",
    "plt.ylabel('True Positive Rate')\n",
    "plt.title('Area under the ROC Curve')\n",
    "plt.legend(loc=\"lower right\")\n",
    "plt.show()"
   ]
  },
  {
   "cell_type": "code",
   "execution_count": 72,
   "id": "e51d3e81-1a88-4929-88ea-2617a63b1375",
   "metadata": {
    "tags": []
   },
   "outputs": [
    {
     "name": "stderr",
     "output_type": "stream",
     "text": [
      "23/07/07 15:59:57 WARN CacheManager: Asked to cache already cached data.\n",
      "23/07/07 15:59:57 WARN CacheManager: Asked to cache already cached data.\n"
     ]
    },
    {
     "name": "stdout",
     "output_type": "stream",
     "text": [
      "Accuracy:  0.8354978354978355\n",
      "Precision:  0.8342878520656298\n",
      "CPU times: user 1.4 s, sys: 383 ms, total: 1.79 s\n",
      "Wall time: 6min 5s\n"
     ]
    }
   ],
   "source": [
    "%%time\n",
    "\n",
    "from pyspark.ml.classification import GBTClassifier\n",
    "gbt = GBTClassifier(labelCol=\"Survived\")\n",
    "paramGrid = ParamGridBuilder().addGrid(gbt.maxDepth, [5, 10, 20]).addGrid(gbt.maxBins, [20, 32, 50]).addGrid(gbt.maxIter, [10, 20, 30]).addGrid(gbt.minInstancesPerNode, [1, 5, 10]).build()\n",
    "\n",
    "tvs = TrainValidationSplit(estimator=gbt\n",
    "                           , estimatorParamMaps=paramGrid\n",
    "                            ,evaluator=MulticlassClassificationEvaluator(labelCol='Survived')\n",
    "                            ,trainRatio=0.8)\n",
    "\n",
    "model = tvs.fit(train_df)\n",
    "model_predictions= model.transform(test_df)\n",
    "\n",
    "print('Accuracy: ', MulticlassClassificationEvaluator(labelCol='Survived',metricName='accuracy').evaluate(model_predictions))\n",
    "print('Precision: ',MulticlassClassificationEvaluator(labelCol='Survived',metricName='weightedPrecision').evaluate(model_predictions))\n"
   ]
  },
  {
   "cell_type": "code",
   "execution_count": 73,
   "id": "f2d989c2-446c-4b08-904f-3edc14552d0b",
   "metadata": {
    "tags": []
   },
   "outputs": [
    {
     "name": "stderr",
     "output_type": "stream",
     "text": [
      "/home/liyg/.local/lib/python3.9/site-packages/pyspark/sql/context.py:157: FutureWarning: Deprecated in 3.0.0. Use SparkSession.builder.getOrCreate() instead.\n",
      "  warnings.warn(\n"
     ]
    },
    {
     "name": "stdout",
     "output_type": "stream",
     "text": [
      "The ROC score is:  0.8512087026591458\n"
     ]
    }
   ],
   "source": [
    "sc =SparkContext.getOrCreate()   # We need to create SparkContext\n",
    "results = model_predictions.select(['probability', 'Survived'])\n",
    " \n",
    "## prepare score-label set\n",
    "results_collect = results.collect()\n",
    "results_list = [(float(i[0][0]), 1.0-float(i[1])) for i in results_collect]\n",
    "scoreAndLabels = sc.parallelize(results_list)\n",
    " \n",
    "metrics = metric(scoreAndLabels)\n",
    "print(\"The ROC score is: \", metrics.areaUnderROC)"
   ]
  },
  {
   "cell_type": "code",
   "execution_count": 74,
   "id": "433a2c12-bc5e-4d19-932c-4d98d6416ddf",
   "metadata": {
    "tags": []
   },
   "outputs": [
    {
     "data": {
      "image/png": "[encoded data removed]",
      "text/plain": [
       "<Figure size 640x480 with 1 Axes>"
      ]
     },
     "metadata": {},
     "output_type": "display_data"
    }
   ],
   "source": [
    "fpr = dict()\n",
    "tpr = dict()\n",
    "roc_auc = dict()\n",
    " \n",
    "y_test = [i[1] for i in results_list]\n",
    "y_score = [i[0] for i in results_list]\n",
    " \n",
    "fpr, tpr, _ = roc_curve(y_test, y_score)\n",
    "roc_auc = auc(fpr, tpr)\n",
    " \n",
    "%matplotlib inline\n",
    "plt.figure()\n",
    "plt.plot(fpr, tpr, label='ROC curve (area = %0.2f)' % roc_auc)\n",
    "plt.plot([0, 1], [0, 1], 'k--')\n",
    "plt.xlim([0.0, 1.0])\n",
    "plt.ylim([0.0, 1.05])\n",
    "plt.xlabel('False Positive Rate')\n",
    "plt.ylabel('True Positive Rate')\n",
    "plt.title('Area under the ROC Curve')\n",
    "plt.legend(loc=\"lower right\")\n",
    "plt.show()"
   ]
  },
  {
   "cell_type": "code",
   "execution_count": null,
   "id": "f771f38e-5933-483e-91fc-fdbd60df4969",
   "metadata": {},
   "outputs": [],
   "source": [
    "# 参考文档 https://blog.csdn.net/u010665216/article/details/124654878\n",
    "# 参考文档2 https://github.com/shawshany/SparkML/blob/main/%E4%BD%BF%E7%94%A8Spark%E6%9E%84%E5%BB%BA%E5%88%86%E7%B1%BB%E6%A8%A1%E5%9E%8B/%E4%BD%BF%E7%94%A8Spark%E6%9E%84%E5%BB%BA%E5%88%86%E7%B1%BB%E6%A8%A1%E5%9E%8B.ipynb"
   ]
  },
  {
   "cell_type": "code",
   "execution_count": null,
   "id": "9d07fafa-4f62-4f7c-ba4e-c9ab3ad57c5f",
   "metadata": {},
   "outputs": [],
   "source": []
  },
  {
   "cell_type": "code",
   "execution_count": null,
   "id": "b003cf20-283f-45ad-a15f-1f4073394631",
   "metadata": {},
   "outputs": [],
   "source": []
  }
 ],
 "metadata": {
  "kernelspec": {
   "display_name": "Python 3 (ipykernel)",
   "language": "python",
   "name": "python3"
  },
  "language_info": {
   "codemirror_mode": {
    "name": "ipython",
    "version": 3
   },
   "file_extension": ".py",
   "mimetype": "text/x-python",
   "name": "python",
   "nbconvert_exporter": "python",
   "pygments_lexer": "ipython3",
   "version": "3.9.16"
  }
 },
 "nbformat": 4,
 "nbformat_minor": 5
}
