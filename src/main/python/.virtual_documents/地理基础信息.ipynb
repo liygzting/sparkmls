import shapely
from shapely.geometry import Point, LineString, Polygon, MultiPoint, MultiLineString, MultiPolygon


Point(0,0)


a = Point(0, 0)
b = Point(1, 0)
a.distance(b)


MultiPoint([(0,0),(0,1),(1,0),(1,1)])


line = LineString([(0,0),(1,2),(0,1)])
line


print(f'Length of line {line.length}')
print(f'Bounds of line {line.bounds}')


pol = Polygon([(0, 0), (0, 1), (1, 1), (1, 0)])
pol


pol.area






